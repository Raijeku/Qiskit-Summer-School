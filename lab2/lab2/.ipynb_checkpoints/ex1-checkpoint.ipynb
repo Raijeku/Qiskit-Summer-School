{
 "cells": [
  {
   "cell_type": "markdown",
   "metadata": {},
   "source": [
    "![image](resources/qgss-header.png)"
   ]
  },
  {
   "cell_type": "markdown",
   "metadata": {},
   "source": [
    "# Lab 2: Grover's Algorithm"
   ]
  },
  {
   "cell_type": "markdown",
   "metadata": {},
   "source": [
    "In this lab, you will implement Grover's algorithm in `Qiskit` and investigate its behavior following the material presented in lecture 2.\n",
    "\n",
    "You might find this chapter of the Qiskit Textbook useful:\n",
    "- https://qiskit.org/textbook/ch-algorithms/grover.html\n",
    "\n",
    "Remember, to run a cell in Jupyter notebooks, you press `Shift` + `Return/Enter` on your keyboard."
   ]
  },
  {
   "cell_type": "markdown",
   "metadata": {},
   "source": [
    "### Installing necessary packages"
   ]
  },
  {
   "cell_type": "markdown",
   "metadata": {},
   "source": [
    "Before we begin, you will need to install some prerequisites into your environment. Run the cell below to complete these installations. At the end, the cell outputs will be cleared."
   ]
  },
  {
   "cell_type": "code",
   "execution_count": 1,
   "metadata": {},
   "outputs": [
    {
     "name": "stdout",
     "output_type": "stream",
     "text": [
      "\n",
      "Requirement already satisfied, skipping upgrade: qiskit-aqua==0.7.0 in c:\\users\\usuario\\anaconda3\\envs\\quantum\\lib\\site-packages (from qiskit==0.19->-r grading_tools/requirements.txt (line 1)) (0.7.0)\n",
      "Requirement already satisfied, skipping upgrade: qiskit-ibmq-provider==0.7.0 in c:\\users\\usuario\\anaconda3\\envs\\quantum\\lib\\site-packages (from qiskit==0.19->-r grading_tools/requirements.txt (line 1)) (0.7.0)\n",
      "Requirement already satisfied, skipping upgrade: qiskit-terra==0.14.0 in c:\\users\\usuario\\anaconda3\\envs\\quantum\\lib\\site-packages (from qiskit==0.19->-r grading_tools/requirements.txt (line 1)) (0.14.0)\n",
      "Requirement already satisfied, skipping upgrade: qiskit-aer==0.5.1 in c:\\users\\usuario\\anaconda3\\envs\\quantum\\lib\\site-packages (from qiskit==0.19->-r grading_tools/requirements.txt (line 1)) (0.5.1)\n",
      "Requirement already satisfied, skipping upgrade: numpy>=1.13.3 in c:\\users\\usuario\\anaconda3\\envs\\quantum\\lib\\site-packages (from seaborn==0.10->-r grading_tools/requirements.txt (line 2)) (1.19.0)\n",
      "Requirement already satisfied, skipping upgrade: pandas>=0.22.0 in c:\\users\\usuario\\anaconda3\\envs\\quantum\\lib\\site-packages (from seaborn==0.10->-r grading_tools/requirements.txt (line 2)) (1.0.5)\n",
      "Requirement already satisfied, skipping upgrade: matplotlib>=2.1.2 in c:\\users\\usuario\\anaconda3\\envs\\quantum\\lib\\site-packages (from seaborn==0.10->-r grading_tools/requirements.txt (line 2)) (3.2.2)\n",
      "Requirement already satisfied, skipping upgrade: scipy>=1.0.1 in c:\\users\\usuario\\anaconda3\\envs\\quantum\\lib\\site-packages (from seaborn==0.10->-r grading_tools/requirements.txt (line 2)) (1.5.0)\n",
      "Requirement already satisfied, skipping upgrade: ipython>=4.0.0; python_version >= \"3.3\" in c:\\users\\usuario\\anaconda3\\envs\\quantum\\lib\\site-packages (from ipywidgets==7.5.1->-r grading_tools/requirements.txt (line 3)) (7.16.1)\n",
      "Requirement already satisfied, skipping upgrade: traitlets>=4.3.1 in c:\\users\\usuario\\anaconda3\\envs\\quantum\\lib\\site-packages (from ipywidgets==7.5.1->-r grading_tools/requirements.txt (line 3)) (4.3.3)\n",
      "Requirement already satisfied, skipping upgrade: widgetsnbextension~=3.5.0 in c:\\users\\usuario\\anaconda3\\envs\\quantum\\lib\\site-packages (from ipywidgets==7.5.1->-r grading_tools/requirements.txt (line 3)) (3.5.1)\n",
      "Requirement already satisfied, skipping upgrade: nbformat>=4.2.0 in c:\\users\\usuario\\anaconda3\\envs\\quantum\\lib\\site-packages (from ipywidgets==7.5.1->-r grading_tools/requirements.txt (line 3)) (5.0.7)\n",
      "Requirement already satisfied, skipping upgrade: ipykernel>=4.5.1 in c:\\users\\usuario\\anaconda3\\envs\\quantum\\lib\\site-packages (from ipywidgets==7.5.1->-r grading_tools/requirements.txt (line 3)) (5.3.0)\n",
      "Requirement already satisfied, skipping upgrade: setuptools>=40.1.0 in c:\\users\\usuario\\anaconda3\\envs\\quantum\\lib\\site-packages (from qiskit-ignis==0.3.0->qiskit==0.19->-r grading_tools/requirements.txt (line 1)) (47.3.1.post20200622)\n",
      "Requirement already satisfied, skipping upgrade: networkx>=2.2 in c:\\users\\usuario\\anaconda3\\envs\\quantum\\lib\\site-packages (from qiskit-aqua==0.7.0->qiskit==0.19->-r grading_tools/requirements.txt (line 1)) (2.4)\n",
      "Requirement already satisfied, skipping upgrade: scikit-learn>=0.20.0 in c:\\users\\usuario\\anaconda3\\envs\\quantum\\lib\\site-packages (from qiskit-aqua==0.7.0->qiskit==0.19->-r grading_tools/requirements.txt (line 1)) (0.23.1)\n",
      "Requirement already satisfied, skipping upgrade: h5py in c:\\users\\usuario\\anaconda3\\envs\\quantum\\lib\\site-packages (from qiskit-aqua==0.7.0->qiskit==0.19->-r grading_tools/requirements.txt (line 1)) (2.10.0)\n",
      "Requirement already satisfied, skipping upgrade: sympy>=1.3 in c:\\users\\usuario\\anaconda3\\envs\\quantum\\lib\\site-packages (from qiskit-aqua==0.7.0->qiskit==0.19->-r grading_tools/requirements.txt (line 1)) (1.6.1)\n",
      "Requirement already satisfied, skipping upgrade: psutil>=5 in c:\\users\\usuario\\anaconda3\\envs\\quantum\\lib\\site-packages (from qiskit-aqua==0.7.0->qiskit==0.19->-r grading_tools/requirements.txt (line 1)) (5.7.0)\n",
      "Requirement already satisfied, skipping upgrade: dlx in c:\\users\\usuario\\anaconda3\\envs\\quantum\\lib\\site-packages (from qiskit-aqua==0.7.0->qiskit==0.19->-r grading_tools/requirements.txt (line 1)) (1.0.4)\n",
      "Requirement already satisfied, skipping upgrade: docplex in c:\\users\\usuario\\anaconda3\\envs\\quantum\\lib\\site-packages (from qiskit-aqua==0.7.0->qiskit==0.19->-r grading_tools/requirements.txt (line 1)) (2.14.186)\n",
      "Requirement already satisfied, skipping upgrade: fastdtw in c:\\users\\usuario\\anaconda3\\envs\\quantum\\lib\\site-packages (from qiskit-aqua==0.7.0->qiskit==0.19->-r grading_tools/requirements.txt (line 1)) (0.3.4)\n",
      "Requirement already satisfied, skipping upgrade: quandl in c:\\users\\usuario\\anaconda3\\envs\\quantum\\lib\\site-packages (from qiskit-aqua==0.7.0->qiskit==0.19->-r grading_tools/requirements.txt (line 1)) (3.5.0)\n",
      "Requirement already satisfied, skipping upgrade: requests-ntlm>=1.1.0 in c:\\users\\usuario\\anaconda3\\envs\\quantum\\lib\\site-packages (from qiskit-ibmq-provider==0.7.0->qiskit==0.19->-r grading_tools/requirements.txt (line 1)) (1.1.0)\n",
      "Requirement already satisfied, skipping upgrade: nest-asyncio!=1.1.0,>=1.0.0 in c:\\users\\usuario\\anaconda3\\envs\\quantum\\lib\\site-packages (from qiskit-ibmq-provider==0.7.0->qiskit==0.19->-r grading_tools/requirements.txt (line 1)) (1.3.3)\n",
      "Requirement already satisfied, skipping upgrade: urllib3>=1.21.1 in c:\\users\\usuario\\anaconda3\\envs\\quantum\\lib\\site-packages (from qiskit-ibmq-provider==0.7.0->qiskit==0.19->-r grading_tools/requirements.txt (line 1)) (1.25.9)\n",
      "Requirement already satisfied, skipping upgrade: websockets<8,>=7 in c:\\users\\usuario\\anaconda3\\envs\\quantum\\lib\\site-packages (from qiskit-ibmq-provider==0.7.0->qiskit==0.19->-r grading_tools/requirements.txt (line 1)) (7.0)\n",
      "Requirement already satisfied, skipping upgrade: python-dateutil>=2.8.0 in c:\\users\\usuario\\anaconda3\\envs\\quantum\\lib\\site-packages (from qiskit-ibmq-provider==0.7.0->qiskit==0.19->-r grading_tools/requirements.txt (line 1)) (2.8.1)\n",
      "Requirement already satisfied, skipping upgrade: requests>=2.19 in c:\\users\\usuario\\anaconda3\\envs\\quantum\\lib\\site-packages (from qiskit-ibmq-provider==0.7.0->qiskit==0.19->-r grading_tools/requirements.txt (line 1)) (2.24.0)\n",
      "Requirement already satisfied, skipping upgrade: marshmallow<4,>=3 in c:\\users\\usuario\\anaconda3\\envs\\quantum\\lib\\site-packages (from qiskit-terra==0.14.0->qiskit==0.19->-r grading_tools/requirements.txt (line 1)) (3.6.1)\n",
      "Requirement already satisfied, skipping upgrade: marshmallow-polyfield<6,>=5.7 in c:\\users\\usuario\\anaconda3\\envs\\quantum\\lib\\site-packages (from qiskit-terra==0.14.0->qiskit==0.19->-r grading_tools/requirements.txt (line 1)) (5.9)\n",
      "Requirement already satisfied, skipping upgrade: ply>=3.10 in c:\\users\\usuario\\anaconda3\\envs\\quantum\\lib\\site-packages (from qiskit-terra==0.14.0->qiskit==0.19->-r grading_tools/requirements.txt (line 1)) (3.11)\n",
      "Requirement already satisfied, skipping upgrade: retworkx>=0.3.2 in c:\\users\\usuario\\anaconda3\\envs\\quantum\\lib\\site-packages (from qiskit-terra==0.14.0->qiskit==0.19->-r grading_tools/requirements.txt (line 1)) (0.3.4)\n",
      "Requirement already satisfied, skipping upgrade: python-constraint>=1.4 in c:\\users\\usuario\\anaconda3\\envs\\quantum\\lib\\site-packages (from qiskit-terra==0.14.0->qiskit==0.19->-r grading_tools/requirements.txt (line 1)) (1.4.0)\n",
      "Requirement already satisfied, skipping upgrade: jsonschema>=2.6 in c:\\users\\usuario\\anaconda3\\envs\\quantum\\lib\\site-packages (from qiskit-terra==0.14.0->qiskit==0.19->-r grading_tools/requirements.txt (line 1)) (3.2.0)\n",
      "Requirement already satisfied, skipping upgrade: fastjsonschema>=2.10 in c:\\users\\usuario\\anaconda3\\envs\\quantum\\lib\\site-packages (from qiskit-terra==0.14.0->qiskit==0.19->-r grading_tools/requirements.txt (line 1)) (2.14.4)\n",
      "Requirement already satisfied, skipping upgrade: dill>=0.3 in c:\\users\\usuario\\anaconda3\\envs\\quantum\\lib\\site-packages (from qiskit-terra==0.14.0->qiskit==0.19->-r grading_tools/requirements.txt (line 1)) (0.3.2)\n",
      "Requirement already satisfied, skipping upgrade: cython>=0.27.1 in c:\\users\\usuario\\anaconda3\\envs\\quantum\\lib\\site-packages (from qiskit-aer==0.5.1->qiskit==0.19->-r grading_tools/requirements.txt (line 1)) (0.29.21)\n",
      "Requirement already satisfied, skipping upgrade: pybind11>=2.4 in c:\\users\\usuario\\anaconda3\\envs\\quantum\\lib\\site-packages (from qiskit-aer==0.5.1->qiskit==0.19->-r grading_tools/requirements.txt (line 1)) (2.5.0)\n",
      "Requirement already satisfied, skipping upgrade: pytz>=2017.2 in c:\\users\\usuario\\anaconda3\\envs\\quantum\\lib\\site-packages (from pandas>=0.22.0->seaborn==0.10->-r grading_tools/requirements.txt (line 2)) (2020.1)\n",
      "Requirement already satisfied, skipping upgrade: pyparsing!=2.0.4,!=2.1.2,!=2.1.6,>=2.0.1 in c:\\users\\usuario\\anaconda3\\envs\\quantum\\lib\\site-packages (from matplotlib>=2.1.2->seaborn==0.10->-r grading_tools/requirements.txt (line 2)) (2.4.7)\n",
      "Requirement already satisfied, skipping upgrade: cycler>=0.10 in c:\\users\\usuario\\anaconda3\\envs\\quantum\\lib\\site-packages (from matplotlib>=2.1.2->seaborn==0.10->-r grading_tools/requirements.txt (line 2)) (0.10.0)\n",
      "Requirement already satisfied, skipping upgrade: kiwisolver>=1.0.1 in c:\\users\\usuario\\anaconda3\\envs\\quantum\\lib\\site-packages (from matplotlib>=2.1.2->seaborn==0.10->-r grading_tools/requirements.txt (line 2)) (1.2.0)\n",
      "Requirement already satisfied, skipping upgrade: prompt-toolkit!=3.0.0,!=3.0.1,<3.1.0,>=2.0.0 in c:\\users\\usuario\\anaconda3\\envs\\quantum\\lib\\site-packages (from ipython>=4.0.0; python_version >= \"3.3\"->ipywidgets==7.5.1->-r grading_tools/requirements.txt (line 3)) (3.0.5)\n",
      "Requirement already satisfied, skipping upgrade: decorator in c:\\users\\usuario\\anaconda3\\envs\\quantum\\lib\\site-packages (from ipython>=4.0.0; python_version >= \"3.3\"->ipywidgets==7.5.1->-r grading_tools/requirements.txt (line 3)) (4.4.2)\n",
      "Requirement already satisfied, skipping upgrade: jedi>=0.10 in c:\\users\\usuario\\anaconda3\\envs\\quantum\\lib\\site-packages (from ipython>=4.0.0; python_version >= \"3.3\"->ipywidgets==7.5.1->-r grading_tools/requirements.txt (line 3)) (0.17.1)\n",
      "Requirement already satisfied, skipping upgrade: backcall in c:\\users\\usuario\\anaconda3\\envs\\quantum\\lib\\site-packages (from ipython>=4.0.0; python_version >= \"3.3\"->ipywidgets==7.5.1->-r grading_tools/requirements.txt (line 3)) (0.2.0)\n",
      "Requirement already satisfied, skipping upgrade: pygments in c:\\users\\usuario\\anaconda3\\envs\\quantum\\lib\\site-packages (from ipython>=4.0.0; python_version >= \"3.3\"->ipywidgets==7.5.1->-r grading_tools/requirements.txt (line 3)) (2.6.1)\n",
      "Requirement already satisfied, skipping upgrade: pickleshare in c:\\users\\usuario\\anaconda3\\envs\\quantum\\lib\\site-packages (from ipython>=4.0.0; python_version >= \"3.3\"->ipywidgets==7.5.1->-r grading_tools/requirements.txt (line 3)) (0.7.5)\n",
      "Requirement already satisfied, skipping upgrade: colorama; sys_platform == \"win32\" in c:\\users\\usuario\\anaconda3\\envs\\quantum\\lib\\site-packages (from ipython>=4.0.0; python_version >= \"3.3\"->ipywidgets==7.5.1->-r grading_tools/requirements.txt (line 3)) (0.4.3)\n",
      "Requirement already satisfied, skipping upgrade: six in c:\\users\\usuario\\anaconda3\\envs\\quantum\\lib\\site-packages (from traitlets>=4.3.1->ipywidgets==7.5.1->-r grading_tools/requirements.txt (line 3)) (1.15.0)\n",
      "Requirement already satisfied, skipping upgrade: ipython-genutils in c:\\users\\usuario\\anaconda3\\envs\\quantum\\lib\\site-packages (from traitlets>=4.3.1->ipywidgets==7.5.1->-r grading_tools/requirements.txt (line 3)) (0.2.0)\n",
      "Requirement already satisfied, skipping upgrade: notebook>=4.4.1 in c:\\users\\usuario\\anaconda3\\envs\\quantum\\lib\\site-packages (from widgetsnbextension~=3.5.0->ipywidgets==7.5.1->-r grading_tools/requirements.txt (line 3)) (6.0.3)\n",
      "Requirement already satisfied, skipping upgrade: jupyter-core in c:\\users\\usuario\\anaconda3\\envs\\quantum\\lib\\site-packages (from nbformat>=4.2.0->ipywidgets==7.5.1->-r grading_tools/requirements.txt (line 3)) (4.6.3)\n",
      "Requirement already satisfied, skipping upgrade: jupyter-client in c:\\users\\usuario\\anaconda3\\envs\\quantum\\lib\\site-packages (from ipykernel>=4.5.1->ipywidgets==7.5.1->-r grading_tools/requirements.txt (line 3)) (6.1.5)\n",
      "Requirement already satisfied, skipping upgrade: tornado>=4.2 in c:\\users\\usuario\\anaconda3\\envs\\quantum\\lib\\site-packages (from ipykernel>=4.5.1->ipywidgets==7.5.1->-r grading_tools/requirements.txt (line 3)) (6.0.4)\n",
      "Requirement already satisfied, skipping upgrade: threadpoolctl>=2.0.0 in c:\\users\\usuario\\anaconda3\\envs\\quantum\\lib\\site-packages (from scikit-learn>=0.20.0->qiskit-aqua==0.7.0->qiskit==0.19->-r grading_tools/requirements.txt (line 1)) (2.1.0)\n",
      "Requirement already satisfied, skipping upgrade: joblib>=0.11 in c:\\users\\usuario\\anaconda3\\envs\\quantum\\lib\\site-packages (from scikit-learn>=0.20.0->qiskit-aqua==0.7.0->qiskit==0.19->-r grading_tools/requirements.txt (line 1)) (0.16.0)\n",
      "Requirement already satisfied, skipping upgrade: mpmath>=0.19 in c:\\users\\usuario\\anaconda3\\envs\\quantum\\lib\\site-packages (from sympy>=1.3->qiskit-aqua==0.7.0->qiskit==0.19->-r grading_tools/requirements.txt (line 1)) (1.1.0)\n",
      "Requirement already satisfied, skipping upgrade: inflection>=0.3.1 in c:\\users\\usuario\\anaconda3\\envs\\quantum\\lib\\site-packages (from quandl->qiskit-aqua==0.7.0->qiskit==0.19->-r grading_tools/requirements.txt (line 1)) (0.5.0)\n",
      "Requirement already satisfied, skipping upgrade: more-itertools in c:\\users\\usuario\\anaconda3\\envs\\quantum\\lib\\site-packages (from quandl->qiskit-aqua==0.7.0->qiskit==0.19->-r grading_tools/requirements.txt (line 1)) (8.4.0)\n",
      "Requirement already satisfied, skipping upgrade: cryptography>=1.3 in c:\\users\\usuario\\anaconda3\\envs\\quantum\\lib\\site-packages (from requests-ntlm>=1.1.0->qiskit-ibmq-provider==0.7.0->qiskit==0.19->-r grading_tools/requirements.txt (line 1)) (2.9.2)\n",
      "Requirement already satisfied, skipping upgrade: ntlm-auth>=1.0.2 in c:\\users\\usuario\\anaconda3\\envs\\quantum\\lib\\site-packages (from requests-ntlm>=1.1.0->qiskit-ibmq-provider==0.7.0->qiskit==0.19->-r grading_tools/requirements.txt (line 1)) (1.5.0)\n",
      "Requirement already satisfied, skipping upgrade: idna<3,>=2.5 in c:\\users\\usuario\\anaconda3\\envs\\quantum\\lib\\site-packages (from requests>=2.19->qiskit-ibmq-provider==0.7.0->qiskit==0.19->-r grading_tools/requirements.txt (line 1)) (2.10)\n",
      "Requirement already satisfied, skipping upgrade: certifi>=2017.4.17 in c:\\users\\usuario\\anaconda3\\envs\\quantum\\lib\\site-packages (from requests>=2.19->qiskit-ibmq-provider==0.7.0->qiskit==0.19->-r grading_tools/requirements.txt (line 1)) (2020.6.20)\n",
      "Requirement already satisfied, skipping upgrade: chardet<4,>=3.0.2 in c:\\users\\usuario\\anaconda3\\envs\\quantum\\lib\\site-packages (from requests>=2.19->qiskit-ibmq-provider==0.7.0->qiskit==0.19->-r grading_tools/requirements.txt (line 1)) (3.0.4)\n",
      "Requirement already satisfied, skipping upgrade: attrs>=17.4.0 in c:\\users\\usuario\\anaconda3\\envs\\quantum\\lib\\site-packages (from jsonschema>=2.6->qiskit-terra==0.14.0->qiskit==0.19->-r grading_tools/requirements.txt (line 1)) (19.3.0)\n",
      "Requirement already satisfied, skipping upgrade: pyrsistent>=0.14.0 in c:\\users\\usuario\\anaconda3\\envs\\quantum\\lib\\site-packages (from jsonschema>=2.6->qiskit-terra==0.14.0->qiskit==0.19->-r grading_tools/requirements.txt (line 1)) (0.16.0)\n",
      "Requirement already satisfied, skipping upgrade: wcwidth in c:\\users\\usuario\\anaconda3\\envs\\quantum\\lib\\site-packages (from prompt-toolkit!=3.0.0,!=3.0.1,<3.1.0,>=2.0.0->ipython>=4.0.0; python_version >= \"3.3\"->ipywidgets==7.5.1->-r grading_tools/requirements.txt (line 3)) (0.2.5)\n",
      "Requirement already satisfied, skipping upgrade: parso<0.8.0,>=0.7.0 in c:\\users\\usuario\\anaconda3\\envs\\quantum\\lib\\site-packages (from jedi>=0.10->ipython>=4.0.0; python_version >= \"3.3\"->ipywidgets==7.5.1->-r grading_tools/requirements.txt (line 3)) (0.7.0)\n",
      "Requirement already satisfied, skipping upgrade: jinja2 in c:\\users\\usuario\\anaconda3\\envs\\quantum\\lib\\site-packages (from notebook>=4.4.1->widgetsnbextension~=3.5.0->ipywidgets==7.5.1->-r grading_tools/requirements.txt (line 3)) (2.11.2)\n",
      "Requirement already satisfied, skipping upgrade: nbconvert in c:\\users\\usuario\\anaconda3\\envs\\quantum\\lib\\site-packages (from notebook>=4.4.1->widgetsnbextension~=3.5.0->ipywidgets==7.5.1->-r grading_tools/requirements.txt (line 3)) (5.6.1)\n",
      "Requirement already satisfied, skipping upgrade: Send2Trash in c:\\users\\usuario\\anaconda3\\envs\\quantum\\lib\\site-packages (from notebook>=4.4.1->widgetsnbextension~=3.5.0->ipywidgets==7.5.1->-r grading_tools/requirements.txt (line 3)) (1.5.0)\n",
      "Requirement already satisfied, skipping upgrade: prometheus-client in c:\\users\\usuario\\anaconda3\\envs\\quantum\\lib\\site-packages (from notebook>=4.4.1->widgetsnbextension~=3.5.0->ipywidgets==7.5.1->-r grading_tools/requirements.txt (line 3)) (0.8.0)\n",
      "Requirement already satisfied, skipping upgrade: pyzmq>=17 in c:\\users\\usuario\\anaconda3\\envs\\quantum\\lib\\site-packages (from notebook>=4.4.1->widgetsnbextension~=3.5.0->ipywidgets==7.5.1->-r grading_tools/requirements.txt (line 3)) (19.0.1)\n",
      "Requirement already satisfied, skipping upgrade: terminado>=0.8.1 in c:\\users\\usuario\\anaconda3\\envs\\quantum\\lib\\site-packages (from notebook>=4.4.1->widgetsnbextension~=3.5.0->ipywidgets==7.5.1->-r grading_tools/requirements.txt (line 3)) (0.8.3)\n",
      "Requirement already satisfied, skipping upgrade: pywin32>=1.0; sys_platform == \"win32\" in c:\\users\\usuario\\anaconda3\\envs\\quantum\\lib\\site-packages (from jupyter-core->nbformat>=4.2.0->ipywidgets==7.5.1->-r grading_tools/requirements.txt (line 3)) (228)\n",
      "Requirement already satisfied, skipping upgrade: cffi!=1.11.3,>=1.8 in c:\\users\\usuario\\anaconda3\\envs\\quantum\\lib\\site-packages (from cryptography>=1.3->requests-ntlm>=1.1.0->qiskit-ibmq-provider==0.7.0->qiskit==0.19->-r grading_tools/requirements.txt (line 1)) (1.14.0)\n",
      "Requirement already satisfied, skipping upgrade: MarkupSafe>=0.23 in c:\\users\\usuario\\anaconda3\\envs\\quantum\\lib\\site-packages (from jinja2->notebook>=4.4.1->widgetsnbextension~=3.5.0->ipywidgets==7.5.1->-r grading_tools/requirements.txt (line 3)) (1.1.1)\n",
      "Requirement already satisfied, skipping upgrade: bleach in c:\\users\\usuario\\anaconda3\\envs\\quantum\\lib\\site-packages (from nbconvert->notebook>=4.4.1->widgetsnbextension~=3.5.0->ipywidgets==7.5.1->-r grading_tools/requirements.txt (line 3)) (3.1.5)\n",
      "Requirement already satisfied, skipping upgrade: mistune<2,>=0.8.1 in c:\\users\\usuario\\anaconda3\\envs\\quantum\\lib\\site-packages (from nbconvert->notebook>=4.4.1->widgetsnbextension~=3.5.0->ipywidgets==7.5.1->-r grading_tools/requirements.txt (line 3)) (0.8.4)\n",
      "Requirement already satisfied, skipping upgrade: testpath in c:\\users\\usuario\\anaconda3\\envs\\quantum\\lib\\site-packages (from nbconvert->notebook>=4.4.1->widgetsnbextension~=3.5.0->ipywidgets==7.5.1->-r grading_tools/requirements.txt (line 3)) (0.4.4)\n",
      "Requirement already satisfied, skipping upgrade: entrypoints>=0.2.2 in c:\\users\\usuario\\anaconda3\\envs\\quantum\\lib\\site-packages (from nbconvert->notebook>=4.4.1->widgetsnbextension~=3.5.0->ipywidgets==7.5.1->-r grading_tools/requirements.txt (line 3)) (0.3)\n",
      "Requirement already satisfied, skipping upgrade: defusedxml in c:\\users\\usuario\\anaconda3\\envs\\quantum\\lib\\site-packages (from nbconvert->notebook>=4.4.1->widgetsnbextension~=3.5.0->ipywidgets==7.5.1->-r grading_tools/requirements.txt (line 3)) (0.6.0)\n",
      "Requirement already satisfied, skipping upgrade: pandocfilters>=1.4.1 in c:\\users\\usuario\\anaconda3\\envs\\quantum\\lib\\site-packages (from nbconvert->notebook>=4.4.1->widgetsnbextension~=3.5.0->ipywidgets==7.5.1->-r grading_tools/requirements.txt (line 3)) (1.4.2)\n",
      "Requirement already satisfied, skipping upgrade: pywinpty>=0.5; os_name == \"nt\" in c:\\users\\usuario\\anaconda3\\envs\\quantum\\lib\\site-packages (from terminado>=0.8.1->notebook>=4.4.1->widgetsnbextension~=3.5.0->ipywidgets==7.5.1->-r grading_tools/requirements.txt (line 3)) (0.5.7)\n",
      "Requirement already satisfied, skipping upgrade: pycparser in c:\\users\\usuario\\anaconda3\\envs\\quantum\\lib\\site-packages (from cffi!=1.11.3,>=1.8->cryptography>=1.3->requests-ntlm>=1.1.0->qiskit-ibmq-provider==0.7.0->qiskit==0.19->-r grading_tools/requirements.txt (line 1)) (2.20)\n",
      "Requirement already satisfied, skipping upgrade: packaging in c:\\users\\usuario\\anaconda3\\envs\\quantum\\lib\\site-packages (from bleach->nbconvert->notebook>=4.4.1->widgetsnbextension~=3.5.0->ipywidgets==7.5.1->-r grading_tools/requirements.txt (line 3)) (20.4)\n",
      "Requirement already satisfied, skipping upgrade: webencodings in c:\\users\\usuario\\anaconda3\\envs\\quantum\\lib\\site-packages (from bleach->nbconvert->notebook>=4.4.1->widgetsnbextension~=3.5.0->ipywidgets==7.5.1->-r grading_tools/requirements.txt (line 3)) (0.5.1)\n"
     ]
    }
   ],
   "source": [
    "!pip install -U -r grading_tools/requirements.txt\n",
    "\n",
    "from IPython.display import clear_output\n",
    "clear_output()"
   ]
  },
  {
   "cell_type": "markdown",
   "metadata": {},
   "source": [
    "# Review of Grover's Algorithm"
   ]
  },
  {
   "cell_type": "markdown",
   "metadata": {},
   "source": [
    "![image](resources/grover_blockdiagram.png)"
   ]
  },
  {
   "cell_type": "markdown",
   "metadata": {},
   "source": [
    "You might recall from lecture 2 that Grover's algorithm has three main components. \n",
    "1. First, we begin by creating a superposition of all $2^n$ computational basis states by applying a Hadamard ($H$) gate on each qubit starting off in the state $\\vert0\\rangle^{\\otimes n}$. Here, the exponent $\\otimes n$ means that we have a tensor product of the states of $n$ qubits. \n",
    "2. Second, we apply an Oracle operator to mark the appropriate elements among the $2^n$ elements. The oracle operator applies a coefficient of $-1$ to each of the marked elements.\n",
    "3. Third, we apply a Diffusion operator, or diffuser, which inverts the amplitude of all elements about the average amplitude.\n",
    "\n",
    "Putting these components together, and applying the Oracle and Diffusion operators $O(\\sqrt{N = 2^n})$ times, Grover's algorithm allows us to successfully determine the elements that were marked by the Oracle operator with high probability. This is shown in the block diagram above, where the quantum circuit for Grover's algorithm is depicted with a measurement in the end to read out the qubits.\n",
    "\n",
    "# Graded Exercise 1: Implementing Grover's Algorithm\n",
    "\n",
    "As you saw in the lecture, it is not hard to implement Grover's algorithm using `Qiskit`. The goal of this lab is to implement Grover's algorithm by creating a quantum circuit that has the marked elements `000001` and `101010`. You will see that the algorithm outputs one of these two marked elements with probability greater than $99\\%$. \n",
    "\n",
    "Let us build each block step by step.\n",
    "\n",
    "### 1.) Phase Oracle\n",
    "We start with the phase oracle. You might find it helpful to have a look at the corresponding chapter in the Qiskit textbook: https://qiskit.org/textbook/ch-algorithms/grover.html. However, note that the implementation in the textbook is done on 2 and 3 qubits only, while here we need to apply it to 6 qubits.\n",
    "\n",
    "**Recall that the action of the phase oracle is to add a phase of $-1$ to all states representing the marked elements, while leaving all other states unchanged.** An easy way to implement the phase oracle is to create an identity matrix on all $n$ qubits (remember that the corresponding dimension of this matrix is $2^n$) and then change those diagonal elements to $-1$ that correspond to the marked elements. Then, you need to convert that unitary into an operator.\n",
    "\n",
    "We have created a function below called `phase_oracle` which takes in two arguments. The first argument, $n$, gives the number of qubits in the quantum circuit. The second argument, `indices_to_mark`, is a list of the indices whose elements will be marked by the phase oracle with a phase of $-1$. Using these inputs, create a $2^n\\times2^n$ identity matrix, and apply a phase of $-1$ to the diagonal elements at locations given in `indices_to_mark`. For example, if $0$ is in `indices_to_mark`, that means you need to set the top-left-most diagonal element of the identity matrix to -1.\n",
    "\n",
    "Once you complete these steps, apply the unitary operator to the quantum circuit."
   ]
  },
  {
   "cell_type": "code",
   "execution_count": null,
   "metadata": {},
   "outputs": [],
   "source": [
    "from qiskit.quantum_info import Operator\n",
    "from qiskit import QuantumCircuit\n",
    "import numpy as np"
   ]
  },
  {
   "cell_type": "code",
   "execution_count": null,
   "metadata": {},
   "outputs": [],
   "source": [
    "def phase_oracle(n, indices_to_mark, name = 'Oracle'):\n",
    "    \n",
    "    # create a quantum circuit on n qubits\n",
    "    qc = QuantumCircuit(n, name=name)\n",
    "\n",
    "    ### WRITE YOUR CODE BETWEEN THESE LINES - START\n",
    "    \n",
    "    ### WRITE YOUR CODE BETWEEN THESE LINES - END\n",
    "\n",
    "    # convert your matrix (called oracle_matrix) into an operator, and add it to the quantum circuit\n",
    "    qc.unitary(Operator(oracle_matrix), range(n))\n",
    "    \n",
    "    return qc"
   ]
  },
  {
   "cell_type": "markdown",
   "metadata": {},
   "source": [
    "### 2.) Diffusion Operator $V$\n",
    "\n",
    "Next, we define the diffuser, which we called $V$ in the lecture. Its effect is to reflect all amplitudes about the average amplitude. To do so, we simply call the `phase_oracle` with only the zero state ($\\vert0\\rangle^{\\otimes n}$) as the marked element and sandwich it between Hadamard gates applied to all qubits."
   ]
  },
  {
   "cell_type": "code",
   "execution_count": null,
   "metadata": {},
   "outputs": [],
   "source": [
    "def diffuser(n):\n",
    "    \n",
    "    # create a quantum circuit on n qubits\n",
    "    qc = QuantumCircuit(n, name='Diffuser')\n",
    "    \n",
    "    ### WRITE YOUR CODE BETWEEN THESE LINES - START\n",
    "    \n",
    "    \n",
    "    ### WRITE YOUR CODE BETWEEN THESE LINES - END\n",
    "    \n",
    "    return qc"
   ]
  },
  {
   "cell_type": "markdown",
   "metadata": {},
   "source": [
    "### 3.) Putting it all together\n",
    "\n",
    "Finally, we combine the functions to construct Grover's algorithm. We need to determine the optimal number of rounds $r$ as described in the lecture.\n",
    "\n",
    "This was given by \n",
    "\n",
    "$$r = \\left\\lfloor\\frac{\\pi}{4}\\sqrt{\\frac{N}{k}}\\right\\rfloor$$\n",
    "\n",
    "where $k$ is the number of marked elements, and $\\lfloor~\\rfloor$ means rounding down to the nearest integer. In the specific example that we consider here, where we have six qubits ($N = 2^6$) and two marked elements ($k = 2$), implying that $r = 4$. You can check this yourself by plugging in the numbers.\n",
    "\n",
    "In the lecture, we have also seen a lower bound on the success probability when using $n$ qubits. In this exercise, the success probability should be higher than $99\\%$.\n",
    "\n",
    "Let's construct a quantum program that finds the marked elements `000001` and `101010` using Grover's algorithm. To do this, we will need to do the following: \n",
    "1. We start with a Hadamard gate on all qubits.\n",
    "2. Next, we apply $r$ rounds of Grover's algorithm, where each round consists of the application of the phase oracle with the marked elements and the diffuser. The indices for the two marked elements `000001` and `101010` are $1$ and $42$. \n",
    "3. Finally, we need to measure all qubits.\n",
    "\n",
    "The next lines of code put everything together. **You do not need to modify anything below, but you will need to run the cell to submit your solution.**"
   ]
  },
  {
   "cell_type": "code",
   "execution_count": null,
   "metadata": {},
   "outputs": [],
   "source": [
    "def Grover(n, indices_of_marked_elements):\n",
    "    \n",
    "    # Create a quantum circuit on n qubits\n",
    "    qc = QuantumCircuit(n, n)\n",
    "    \n",
    "    # Determine r\n",
    "    r = int(np.floor(np.pi/4*np.sqrt(2**n/len(indices_of_marked_elements))))\n",
    "    print(f'{n} qubits, basis states {indices_of_marked_elements} marked, {r} rounds')\n",
    "    \n",
    "    # step 1: apply Hadamard gates on all qubits\n",
    "    qc.h(range(n))\n",
    "    \n",
    "    # step 2: apply r rounds of the phase oracle and the diffuser\n",
    "    for _ in range(r):\n",
    "        qc.append(phase_oracle(n, indices_of_marked_elements), range(n))\n",
    "        qc.append(diffuser(n), range(n))\n",
    "        \n",
    "    # step 3: measure all qubits\n",
    "    qc.measure(range(n), range(n))\n",
    "  \n",
    "    return qc\n",
    "\n",
    "mycircuit = Grover(6, [1, 42])\n",
    "mycircuit.draw(output='text')"
   ]
  },
  {
   "cell_type": "markdown",
   "metadata": {},
   "source": [
    "That's it! Before you submit your solution for grading, you might find it useful to run your quantum circuit and see the measurement outcomes, as well as visualize the statevector at the end.\n",
    "\n",
    "In order to run your quantum circuit and get the measurement outcomes, you simply need to run `Qiskit`'s `execute` function as follows."
   ]
  },
  {
   "cell_type": "code",
   "execution_count": null,
   "metadata": {},
   "outputs": [],
   "source": [
    "from qiskit import Aer, execute\n",
    "simulator = Aer.get_backend('qasm_simulator')\n",
    "counts = execute(mycircuit, backend=simulator, shots=1000).result().get_counts(mycircuit)\n",
    "from qiskit.visualization import plot_histogram\n",
    "plot_histogram(counts)"
   ]
  },
  {
   "cell_type": "markdown",
   "metadata": {},
   "source": [
    "Then, grade your solution by running the cell below after filling in your name and email address. **Always provide the same name and email as the one you used during registration to ensure consistency.**"
   ]
  },
  {
   "cell_type": "code",
   "execution_count": null,
   "metadata": {},
   "outputs": [],
   "source": [
    "name = 'First Last'\n",
    "email = 'first.last@domain.com'\n",
    "\n",
    "### Do not change the lines below\n",
    "from qiskit import transpile\n",
    "mycircuit_t = transpile(mycircuit, basis_gates=['u1', 'u2', 'u3', 'cx'], optimization_level=0)\n",
    "from grading_tools import grade\n",
    "grade(answer=mycircuit_t, name=name, email=email, labid='lab2', exerciseid='ex1')"
   ]
  },
  {
   "cell_type": "markdown",
   "metadata": {},
   "source": [
    "# Additional reading\n",
    "\n",
    "- In the exercise above, we implemented the phase oracle and diffuser as matrices without decomposing them into single- and two-qubit gates. To run on real hardware, one will also need to consider how to build these oracles using gates. You can find examples of how the oracles can be built in the Grover's algorithm section of the Qiskit Textbook here: https://qiskit.org/textbook/ch-algorithms/grover.html"
   ]
  }
 ],
 "metadata": {
  "kernelspec": {
   "display_name": "Python 3",
   "language": "python",
   "name": "python3"
  },
  "language_info": {
   "codemirror_mode": {
    "name": "ipython",
    "version": 3
   },
   "file_extension": ".py",
   "mimetype": "text/x-python",
   "name": "python",
   "nbconvert_exporter": "python",
   "pygments_lexer": "ipython3",
   "version": "3.8.3"
  }
 },
 "nbformat": 4,
 "nbformat_minor": 4
}
